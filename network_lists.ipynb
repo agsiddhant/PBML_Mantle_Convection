{
 "cells": [
  {
   "cell_type": "code",
   "execution_count": null,
   "id": "08bc3dec-969f-42ff-8aca-a6ed94e8cb62",
   "metadata": {},
   "outputs": [],
   "source": [
    "#done \n",
    "python multigpu.py -gpu \"2\" -net \"newfluidnet\" -l 3 -f 16 -b 16 -p \"learned\" -fac 3 -s 0 -ab 10 -r 6 -k 5 -l_sc 1 -ad 0 -l2 0.0  -deb 0 -rst 0 -mp 213 &;\n",
    "python multigpu.py -gpu \"0\" -net \"newfluidnet\" -l 5 -f 16 -b 16 -p \"learned\"   -s 1 -ab 10 -r 6 -k 5 -l_sc 1 -ad 0 -l2 0.0  -deb 0 -rst 0 -mp 213 &;\n",
    "python multigpu.py -gpu \"2\" -net \"newfluidnet\" -l 5 -f 16 -b 16 -p \"replicate\" -s 0 -ab 10 -r 6 -k 5 -l_sc 1 -ad 0 -l2 0.0  -deb 0 -rst 0 -mp 213 &;\n",
    "python multigpu.py -gpu \"3\" -net \"newfluidnet\" -l 5 -f 16 -b 16 -p \"learned\"   -s 0 -ab 10 -r 6 -k 5 -l_sc 0 -ad 0 -l2 0.0  -deb 0 -rst 0 -mp 213 &;\n",
    "python multigpu.py -gpu \"4\" -net \"newfluidnet\" -l 5 -f 16 -b 16 -p \"learned\" -lt \"mae\"  -s 0 -ab 10 -r 6 -k 5 -l_sc 1 -ad 0 -l2 0.0  -deb 0 -rst 0 -mp 213 &;\n",
    "python multigpu.py -gpu \"5\" -net \"newfluidnet\" -l 5 -f 16 -b 16 -p \"learned\" -lt \"mass\" -s 0 -ab 10 -r 6 -k 5 -l_sc 1 -ad 0 -l2 0.0  -deb 0 -rst 0 -mp 213 &;\n",
    "python multigpu.py -gpu \"0\" -net \"newfluidnet\" -l 5 -f 16 -b 16 -p \"learned\"  -s 0 -ab 10 -r 6 -k 3 -l_sc 1 -ad 0 -l2 0.0  -deb 0 -rst 0 -mp 213 &;\n",
    "python multigpu.py -gpu \"1\" -net \"newfluidnet\" -l 5 -f 16 -b 16 -p \"learned\"  -s 0 -ab 10 -r 6 -k 5 -l_sc 1 -ad 0 -l2 0.0  -deb 0 -rst 0 -mp 213 &;\n",
    "python multigpu.py -gpu \"4\" -net \"newfluidnet\" -l 5 -f 32 -b 16 -p \"learned\" -s 0 -ab 10 -r 6 -k 5 -l_sc 1 -ad 0 -l2 0.0  -deb 0 -rst 1 -mp 213 &;\n",
    "python multigpu.py -gpu \"1\" -net \"newfluidnet\" -l 5 -f 8  -b 16 -p \"learned\" -s 0 -ab 10 -r 6 -k 5 -l_sc 1 -ad 0 -l2 0.0  -deb 0 -rst 1 -mp 213 &;\n",
    "python multigpu.py -gpu \"0\" -net \"newfluidnet\" -l 5 -f 16 -b 16 -p \"learned\" -s 0 -ab 10 -r 4 -k 5 -l_sc 1 -ad 0 -l2 0.0  -deb 0 -rst 0 -mp 213 &;\n",
    "python multigpu.py -gpu \"1\" -net \"newfluidnet\" -l 5 -f 16 -b 16 -p \"zeros\"   -s 0 -ab 10 -r 6 -k 5 -l_sc 1 -ad 0 -l2 0.0  -deb 0 -rst 1 -mp 213 &;\n",
    "# similar para count\n",
    "python multigpu.py -gpu \"0,1\" -net \"newfluidnet\" -l 5 -f 64 -b 8  -p \"zeros\" -s 0 -ab 10 -r 4 -k 5 -l_sc 1 -ad 0 -l2 0.0  -deb 0 -rst 1 -mp 21311 &;\n",
    "\n",
    "python multigpu.py -gpu \"0\" -net \"newfluidnet\" -l 5 -f 16 -b 16 -p \"learned\" -s 0 -ab 10 -r 6 -k 5 -l_sc 1 -l_de 0 -ad 0 -l2 0.0  -deb 0 -rst 1 -mp 213 &;\n",
    "python multigpu.py -gpu \"1\" -net \"newfluidnet\" -l 5 -f 16 -b 16 -p \"learned\" -s 0 -ab 10 -r 6 -k 5 -l_sc 0 -l_de 1 -ad 0 -l2 0.0  -deb 0 -rst 1 -mp 213 &;\n",
    "# similar para count with our tricks \n",
    "python multigpu.py -gpu \"2\" -net \"unet\" -l 5 -f 6  -b 16 -p \"learned\" -s 0 -ab 10 -r 3 -k 5 -l_sc 1 -l_de 1 -ad 0 -l2 0.0 -roll 1 -deb 0 -rst 0 -mp 11234 &;\n",
    "python multigpu.py -gpu \"0\" -net \"newfluidnet\" -l 5 -f 16 -b 16 -p \"learned\" -s 0 -ab 10 -r 6 -k 5 -l_sc 0 -l_de 0 -ad 0 -l2 0.0  -deb 0 -rst 1 -mp 213 &;\n",
    "# similar inference time without our tricks\n",
    "python multigpu.py -gpu \"1\" -net \"unet\" -l 5 -f 64 -b 16 -p \"zeros\"   -s 0 -ab 10 -r 3 -k 5 -l_sc 0 -l_de 0 -ad 0 -l2 0.0 -roll 1 -deb 0 -rst 1 -mp 21220 &;\n",
    "# similar inference time with our tricks\n",
    "python multigpu.py -gpu \"0\" -net \"unet\" -l 5 -f 16 -b 16 -p \"learned\" -s 0 -ab 10 -r 3 -k 5 -l_sc 1 -l_de 1 -ad 0 -l2 0.0 -roll 1 -deb 0 -rst 1 -mp 22222 &;\n",
    "\n",
    "# similar inference time without our tricks\n",
    "python multigpu.py -gpu \"0,1\" -net \"unet\" -l 5 -f 64 -b 8 -p \"zeros\"   -s 0 -ab 10 -r 3 -k 5 -l_sc 0 -l_de 0 -ad 0 -l2 0.0 -roll 4 -deb 1 -rst 0 -mp 21220 &;\n",
    "\n",
    "\n",
    "# similar inference time with our tricks\n",
    "python multigpu.py -gpu \"0\" -net \"unet\" -l 5 -f 16 -b 16 -p \"learned\" -s 0 -ab 10 -r 3 -k 5 -l_sc 1 -l_de 1 -ad 0 -l2 0.0 -roll 4 -deb 0 -rst 0 -mp 22222 &;\n",
    "# similar para count with our tricks \n",
    "python multigpu.py -gpu \"1\" -net \"unet\" -l 5 -f 6  -b 16 -p \"learned\" -s 0 -ab 10 -r 3 -k 5 -l_sc 1 -l_de 1 -ad 0 -l2 0.0 -roll 4 -deb 0 -rst 0 -mp 11234 &;\n",
    "# similar para count without our tricks\n",
    "python multigpu.py -gpu \"2\" -net \"unet\" -l 5 -f 16 -b 16 -p \"zeros\"   -s 0 -ab 10 -r 3 -k 5 -l_sc 0 -l_de 0 -ad 0 -l2 0.0 -roll 4 -deb 0 -rst 0 -mp 31321 &;\n",
    "# similar para count without our tricks\n",
    "python multigpu.py -gpu \"3\" -net \"unet\" -l 5 -f 16 -b 16 -p \"zeros\"   -s 0 -ab 10 -r 3 -k 5 -l_sc 0 -l_de 0 -ad 0 -l2 0.0 -roll 1 -deb 0 -rst 0 -mp 31321 &;\n",
    "\n",
    "\n",
    "\n",
    "# running\n",
    "python multigpu.py -gpu \"0\" -net \"fluidnet\" -l 5 -f 16 -b 16 -p \"learned\" -s 0 -ab 10 -r 6 -k 5 -l_sc 1 -l_de 1 -ad 0 -l2 0.0 -deb 0 -rst 0 -mp 213 &;\n",
    "python multigpu.py -gpu \"1\" -net \"fluidnet\" -l 5 -f 8  -b 16 -p \"learned\" -s 0 -ab 10 -r 4 -k 5 -l_sc 1 -l_de 1 -ad 0 -l2 0.0 -deb 0 -rst 0 -mp 2113 &;\n",
    "\n",
    "\n",
    "\n",
    "\n",
    "\n",
    "\n",
    "\n",
    "\n"
   ]
  },
  {
   "cell_type": "code",
   "execution_count": null,
   "id": "5643d05f-4efd-4477-a75b-9c1065da380c",
   "metadata": {},
   "outputs": [],
   "source": []
  }
 ],
 "metadata": {
  "kernelspec": {
   "display_name": "Python 3 (ipykernel)",
   "language": "python",
   "name": "python3"
  },
  "language_info": {
   "codemirror_mode": {
    "name": "ipython",
    "version": 3
   },
   "file_extension": ".py",
   "mimetype": "text/x-python",
   "name": "python",
   "nbconvert_exporter": "python",
   "pygments_lexer": "ipython3",
   "version": "3.12.6"
  }
 },
 "nbformat": 4,
 "nbformat_minor": 5
}
