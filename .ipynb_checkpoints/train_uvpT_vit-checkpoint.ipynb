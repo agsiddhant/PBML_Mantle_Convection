{
 "cells": [
  {
   "cell_type": "code",
   "execution_count": 9,
   "id": "de2dde59-b109-4287-8559-543f8c80c0dc",
   "metadata": {},
   "outputs": [],
   "source": [
    "import glob, os, sys\n",
    "\n",
    "import numpy as np\n",
    "import matplotlib.pyplot as plt\n",
    "\n",
    "import torch\n",
    "\n",
    "import torchvision\n",
    "\n",
    "from torch.utils.data import TensorDataset, DataLoader\n",
    "from tabulate import tabulate\n",
    "from pytorch_networks_convae import *\n",
    "from vit_pytorch import ViT\n",
    "import argparse\n",
    "from datasetio import *\n",
    "\n",
    "import time"
   ]
  },
  {
   "cell_type": "code",
   "execution_count": 10,
   "id": "58cb24b1-4b96-4504-abf2-29a949f1a870",
   "metadata": {},
   "outputs": [],
   "source": [
    "data_dir = \"/plp_scr1/agar_sh/data/TPH/\""
   ]
  },
  {
   "cell_type": "code",
   "execution_count": 13,
   "id": "7fedcdde-c79b-4580-ad5d-d3cbf98fd431",
   "metadata": {},
   "outputs": [],
   "source": [
    "run_cell = False\n",
    "if run_cell:\n",
    "    parser = argparse.ArgumentParser(description='Train autodecoders')\n",
    "    parser.add_argument(\"-gpu\", \"--gpu_number\", type=int, help=\"specify gpu number\")\n",
    "    parser.add_argument(\"-a\", \"--act_fn\", type=str, help =\"activation function\")\n",
    "    parser.add_argument(\"-l\", \"--levels\", type=int, help =\"levels\")\n",
    "    parser.add_argument(\"-f\", \"--c_h\", type=int, help =\"filters\")\n",
    "    parser.add_argument(\"-p\", \"--r_p\", type=str, help=\"padding type\")\n",
    "    parser.add_argument(\"-lt\", \"--loss_type\", type=str, help=\"loss type\")\n",
    "    parser.add_argument(\"-d\", \"--dilation\", type=int, help=\"loss type\")\n",
    "    parser.add_argument(\"-b\", \"--batch_size\", type=int, help=\"batch size\")\n",
    "    parser.add_argument(\"-s\", \"--use_symm\", type=int, help=\"use symmetries\")\n",
    "    parser.add_argument(\"-ab\", \"--a_bound\", type=int, help=\"bound of a\")\n",
    "    \n",
    "    args = parser.parse_args()\n",
    "    \n",
    "    gpu_number = args.gpu_number\n",
    "    act_fn = args.act_fn\n",
    "    levels = args.levels\n",
    "    c_h = args.c_h\n",
    "    r_p = args.r_p\n",
    "    loss_type = args.loss_type\n",
    "    dilation = args.dilation\n",
    "    batch_size = args.batch_size\n",
    "    a_bound = args.a_bound\n",
    "    use_symm = True if args.use_symm == 1 else False\n",
    "    \n",
    "else:\n",
    "    gpu_number = 0\n",
    "    act_fn = \"selu\"\n",
    "    levels = 6\n",
    "    c_h = 8\n",
    "    r_p = \"zeros\"\n",
    "    loss_type = \"mass\"\n",
    "    dilation = 1\n",
    "    batch_size = 8\n",
    "    use_symm = False\n",
    "    a_bound = 4."
   ]
  },
  {
   "cell_type": "code",
   "execution_count": 14,
   "id": "f7dcf142-f64d-4b2e-8201-b9d2853f320e",
   "metadata": {},
   "outputs": [
    {
     "ename": "TypeError",
     "evalue": "ViT.__init__() takes 1 positional argument but 5 positional arguments (and 8 keyword-only arguments) were given",
     "output_type": "error",
     "traceback": [
      "\u001b[0;31m---------------------------------------------------------------------------\u001b[0m",
      "\u001b[0;31mTypeError\u001b[0m                                 Traceback (most recent call last)",
      "Cell \u001b[0;32mIn[14], line 27\u001b[0m\n\u001b[1;32m     24\u001b[0m     c_i \u001b[38;5;241m=\u001b[39m \u001b[38;5;241m6\u001b[39m\n\u001b[1;32m     25\u001b[0m     c_o \u001b[38;5;241m=\u001b[39m \u001b[38;5;241m3\u001b[39m\n\u001b[0;32m---> 27\u001b[0m vit \u001b[38;5;241m=\u001b[39m \u001b[43mViT\u001b[49m\u001b[43m(\u001b[49m\u001b[38;5;241;43m512\u001b[39;49m\u001b[43m,\u001b[49m\u001b[43m \u001b[49m\u001b[38;5;241;43m16\u001b[39;49m\u001b[43m,\u001b[49m\u001b[43m \u001b[49m\u001b[43mc_o\u001b[49m\u001b[43m,\u001b[49m\u001b[43m \u001b[49m\u001b[43mc_o\u001b[49m\u001b[43m,\u001b[49m\u001b[43m \u001b[49m\u001b[43mdepth\u001b[49m\u001b[38;5;241;43m=\u001b[39;49m\u001b[43mlevels\u001b[49m\u001b[43m,\u001b[49m\u001b[43m \u001b[49m\u001b[43mheads\u001b[49m\u001b[38;5;241;43m=\u001b[39;49m\u001b[38;5;241;43m16\u001b[39;49m\u001b[43m,\u001b[49m\u001b[43m \u001b[49m\u001b[43mmlp_dim\u001b[49m\u001b[38;5;241;43m=\u001b[39;49m\u001b[38;5;241;43m512\u001b[39;49m\u001b[43m,\u001b[49m\u001b[43m \u001b[49m\u001b[43mpool\u001b[49m\u001b[43m \u001b[49m\u001b[38;5;241;43m=\u001b[39;49m\u001b[43m \u001b[49m\u001b[38;5;124;43m'\u001b[39;49m\u001b[38;5;124;43mmean\u001b[39;49m\u001b[38;5;124;43m'\u001b[39;49m\u001b[43m,\u001b[49m\u001b[43m \u001b[49m\n\u001b[1;32m     28\u001b[0m \u001b[43m          \u001b[49m\u001b[43mchannels\u001b[49m\u001b[43m \u001b[49m\u001b[38;5;241;43m=\u001b[39;49m\u001b[43m \u001b[49m\u001b[43mc_i\u001b[49m\u001b[43m,\u001b[49m\u001b[43m \u001b[49m\u001b[43mdim_head\u001b[49m\u001b[43m \u001b[49m\u001b[38;5;241;43m=\u001b[39;49m\u001b[43m \u001b[49m\u001b[38;5;241;43m64\u001b[39;49m\u001b[43m,\u001b[49m\u001b[43m \u001b[49m\u001b[43mdropout\u001b[49m\u001b[43m \u001b[49m\u001b[38;5;241;43m=\u001b[39;49m\u001b[43m \u001b[49m\u001b[38;5;241;43m0.\u001b[39;49m\u001b[43m,\u001b[49m\u001b[43m \u001b[49m\u001b[43memb_dropout\u001b[49m\u001b[43m \u001b[49m\u001b[38;5;241;43m=\u001b[39;49m\u001b[43m \u001b[49m\u001b[38;5;241;43m0.\u001b[39;49m\u001b[43m)\u001b[49m\u001b[38;5;241m.\u001b[39mdouble()\u001b[38;5;241m.\u001b[39mto(device)\n\u001b[1;32m     29\u001b[0m model_uvp \u001b[38;5;241m=\u001b[39m uvpnet(vit, device\u001b[38;5;241m=\u001b[39mdevice, r_p\u001b[38;5;241m=\u001b[39mr_p, loss_type\u001b[38;5;241m=\u001b[39mloss_type, a_bound\u001b[38;5;241m=\u001b[39ma_bound)\u001b[38;5;241m.\u001b[39mdouble()\u001b[38;5;241m.\u001b[39mto(device)\n\u001b[1;32m     30\u001b[0m \u001b[38;5;28mprint\u001b[39m(count_parameters(model_uvp))\n",
      "\u001b[0;31mTypeError\u001b[0m: ViT.__init__() takes 1 positional argument but 5 positional arguments (and 8 keyword-only arguments) were given"
     ]
    }
   ],
   "source": [
    "device = torch.device(\"cuda:\" + str(gpu_number)) if torch.cuda.is_available() else torch.device(\"cpu\")\n",
    "#device = torch.device(\"cpu\")\n",
    "\n",
    "torch.cuda.empty_cache()\n",
    "nn_dir = \"/plp_user/agar_sh/PBML/pytorch/TPH/CONVNN/trained_networks/\"\n",
    "f_nn   = \"vit_uvpT_levels_aCnS_Balanced\" + str(levels) + \"_\" + act_fn + \\\n",
    "            \"_\" + str(c_h) + \"_\" + r_p + \"_\" + loss_type + \"_dil_\" + str(dilation) +  \\\n",
    "            \"_\" + str(use_symm) + \"_ab\" + str(a_bound) + \"_\" + str(batch_size)\n",
    "\n",
    "if not os.path.isdir(nn_dir + f_nn):\n",
    "    os.mkdir(nn_dir + f_nn)\n",
    "\n",
    "epoch       = 0\n",
    "start_lr    = 1e-3\n",
    "milestones  = [10, 20, 30, 40, 50, 60]\n",
    "epochs      = 80\n",
    "best_vloss  = 1e+16\n",
    "scale       = True #if loss_type == \"mae\" else False\n",
    "\n",
    "if loss_type == \"curl\":\n",
    "    c_i = 6\n",
    "    c_o = 2\n",
    "else:\n",
    "    c_i = 6\n",
    "    c_o = 3\n",
    "\n",
    "vit = ViT(image_size = 512, path_size=32, num_classes=c_o, dim=c_o, depth=levels, heads=16, mlp_dim=512, pool = 'mean', \n",
    "          channels = c_i, dim_head = 64, dropout = 0., emb_dropout = 0.).double().to(device)\n",
    "model_uvp = uvpnet(vit, device=device, r_p=r_p, loss_type=loss_type, a_bound=a_bound).double().to(device)\n",
    "print(count_parameters(model_uvp))\n",
    "print(model_uvp)\n",
    "#c_i = 6\n",
    "#c_o = 1\n",
    "#model_T = FluidNet(levels, c_i, int(c_h/2), c_o, act_fn).double().to(device)\n",
    "#print(count_parameters(model_T))\n",
    "\n",
    "nn_dir = nn_dir + f_nn + \"/\"\n",
    "with open(nn_dir + \"fluidnet_uvpT.txt\", 'w') as writer:\n",
    "    writer.write('Epoch, train loss, val loss, learning rate \\n')"
   ]
  },
  {
   "cell_type": "code",
   "execution_count": null,
   "id": "57486fef-ae17-4bb5-ba31-e41126955d43",
   "metadata": {
    "scrolled": true
   },
   "outputs": [],
   "source": [
    "dataset = {}\n",
    "loader = {}\n",
    "batches = {}\n",
    "\n",
    "dataset_init = {}\n",
    "loader_init = {}\n",
    "batches_init = {}\n",
    "\n",
    "init_samples = 1\n",
    "\n",
    "for an in [\"train\", \"cv\"]:\n",
    "    \n",
    "    dataset[an] = ADDataset(data_dir, an, scale, is_init=False)\n",
    "    batches[an] = int(len(dataset[an])/batch_size)\n",
    "    loader[an]  = DataLoader(dataset[an], batch_size=batch_size-init_samples, shuffle=True)\n",
    "    print(an, batches[an])\n",
    "\n",
    "    dataset_init[an] = ADDataset(data_dir, an, scale, is_init=True)\n",
    "    batches_init[an] = int(len(dataset_init[an])/init_samples)\n",
    "    loader_init[an]  = DataLoader(dataset_init[an], batch_size=init_samples, shuffle=True)\n",
    "    print(\"init samples \", an, batches_init[an])"
   ]
  },
  {
   "cell_type": "code",
   "execution_count": null,
   "id": "9f69d104-e3e4-415c-a99f-0fd2cd40e4e5",
   "metadata": {},
   "outputs": [],
   "source": [
    "optimizer = torch.optim.Adam([\n",
    "                    {\"params\": model_uvp.parameters(),\n",
    "                     \"lr\": start_lr,\n",
    "                     \"weight_decay\": 1e-5\n",
    "                    },\n",
    "\n",
    "                    #{\"params\": model_T.parameters(),\n",
    "                    # \"lr\": start_lr,\n",
    "                    # #\"weight_decay\": 1e-7\n",
    "                    #}\n",
    "])\n",
    "\n",
    "scheduler = torch.optim.lr_scheduler.MultiStepLR(optimizer, milestones=milestones, gamma=0.5)"
   ]
  },
  {
   "cell_type": "code",
   "execution_count": null,
   "id": "18bb390d-4bd8-4d9b-8627-14992544d7c7",
   "metadata": {
    "scrolled": true
   },
   "outputs": [],
   "source": [
    "while epoch<epochs:\n",
    "    model_uvp.train(True)\n",
    "    #model_T.train(True)\n",
    "    avg_loss = one_epoch_AD(model_uvp, {}, epoch, loader[\"train\"], loader_init[\"train\"], \n",
    "                            optimizer, device, loss_type, is_train=True)\n",
    "    \n",
    "    model_uvp.eval()\n",
    "    #model_T.eval()\n",
    "    avg_vloss = one_epoch_AD(model_uvp, {}, epoch, loader[\"cv\"], loader_init[\"cv\"], \n",
    "                             optimizer, device, loss_type, is_train=False)\n",
    "\n",
    "    print(\"-------------------------------------------\")\n",
    "    print(epoch, avg_loss, avg_vloss, get_lr(optimizer))\n",
    "    print(\"-------------------------------------------\")\n",
    "    \n",
    "    torch.save(model_uvp.state_dict(), nn_dir + str(epoch) + \"_fluidnet_uvp.pt\")\n",
    "    \n",
    "    with open(nn_dir + \"fluidnet_uvpT.txt\", \"a\") as writer:\n",
    "        writer.write(str(epoch) + \",\" + str(avg_loss) \n",
    "                     + \",\" + str(avg_vloss) + \",\" + str(get_lr(optimizer)) + \"\\n\")\n",
    "    scheduler.step()\n",
    "    epoch += 1"
   ]
  },
  {
   "cell_type": "code",
   "execution_count": null,
   "id": "371f5c26-fb17-4115-84f8-de03cea1d6f1",
   "metadata": {},
   "outputs": [],
   "source": [
    "# running\n",
    "\n",
    "\n",
    "python tune_uvpT_fluidnet-1.py -l 6 -gpu 0  -a \"gelu\" -f 16 -p \"replicate\" -lt  \"curl\" -d 1  -b 8 -s 0 -ab 10 &;\n",
    "python tune_uvpT_fluidnet-2.py -l 6 -gpu 1  -a \"gelu\" -f 16 -p \"replicate\" -lt  \"curl\" -d 1 -b 8 -s 0 -ab 10 &;\n",
    "\n",
    "python tune_uvpT_fluidnet-1.py -l 6 -gpu 0  -a \"gelu\" -f 8  -p \"replicate\" -lt  \"curl\" -d 1  -b 8 -s 0 -ab 10 &;\n",
    "python tune_uvpT_fluidnet-2.py -l 6 -gpu 1  -a \"gelu\" -f 8  -p \"replicate\" -lt  \"curl\" -d 1 -b 8 -s 0 -ab 10 &;\n",
    "python tune_uvpT_fluidnet-1.py -l 6 -gpu 2  -a \"gelu\" -f 32 -p \"replicate\" -lt  \"curl\" -d 1  -b 8 -s 0 -ab 10 &;\n",
    "python tune_uvpT_fluidnet-2.py -l 6 -gpu 3  -a \"gelu\" -f 32 -p \"replicate\" -lt  \"curl\" -d 1 -b 8 -s 0 -ab 10 &;"
   ]
  },
  {
   "cell_type": "code",
   "execution_count": null,
   "id": "fc95d6d7-69c9-4818-a96b-d7698ef1cbd6",
   "metadata": {},
   "outputs": [],
   "source": []
  }
 ],
 "metadata": {
  "kernelspec": {
   "display_name": "Python 3 (ipykernel)",
   "language": "python",
   "name": "python3"
  },
  "language_info": {
   "codemirror_mode": {
    "name": "ipython",
    "version": 3
   },
   "file_extension": ".py",
   "mimetype": "text/x-python",
   "name": "python",
   "nbconvert_exporter": "python",
   "pygments_lexer": "ipython3",
   "version": "3.10.9"
  }
 },
 "nbformat": 4,
 "nbformat_minor": 5
}
